{
 "cells": [
  {
   "cell_type": "markdown",
   "metadata": {},
   "source": [
    "# Numerically Computing the Electric Field\n",
    "\n",
    "One type of problem you will encounter in electrostatics is one where you know the distribution of charge at every point in space (or every point where the sources exist) and you need to determine the electric field everywhere in space (or everywhere you are interested). This can be done using Coulomb's law,\n",
    "\n",
    "$$ \\vec{E} = \\int_V d\\tau\\;\\dfrac{1}{4\\pi\\varepsilon_0}\\dfrac{dq}{|\\mathfrak{\\vec{r}}|^2}\\hat{\\mathfrak{r}}$$\n",
    "\n",
    "This calculation might be difficult to perform for all locations that you are interested in, or it might be downright impossible to solve analytical as no anti-derivative might exist for the function. In this case, using numerical techniques makes the problem tractable.\n",
    "\n",
    "## The concept of numerical integration \n",
    "\n",
    "Typically, when you perform an integral analytically, you are seeking the anti-derivative of the function that you are integrating. This is one productive way to think about an integral. \n",
    "\n",
    "Another productive way to think about integration is adding up small bits. You might think about this when you do a line integral, but this can also be a productive way of thinking about any kind of integral, in particular, numerical integration. To conceptualize a numerical integral where you are trying to determine the electric field it is important to follow these steps:\n",
    "\n",
    "1. Divide the source into chunks ($dq$) and pick a starting chunk\n",
    "2. Determine the separation vector ($\\vec{\\mathfrak{r}}$) between the chunk and the observation location\n",
    "3. Compute the contribution to the total electric field from the chunk ($d\\vec{E}$) - treating it as a point charge of size $dq$\n",
    "4. Add this contribution to the \"running\" total of electric field\n",
    "5. Repeat steps 2-5, which form the basis of numerical integration (it's the superposition of the chunks), until you have added up the contributions of all the chunks\n",
    "\n",
    "## Purpose of this problem\n",
    "\n",
    "In this problem, you will calculate and display the electric field of a point charge and, then, a pair of oppositely charged point charges (called a \"dipole\"). In a future problem, we will use what you have learned here to compute the electric field of a line charge. This problem will illustrate the architecture needed to compute a display the electric field of a chunk and then a pair of chunks, which you can then use for any arbritrary number chunks.\n",
    "\n",
    "_For this problem, we will limit our calculations to two-dimensions as we are going to be graphing in a plane._"
   ]
  },
  {
   "cell_type": "markdown",
   "metadata": {},
   "source": [
    "### Import the relevant libraries\n",
    "\n",
    "We will begin by importing numpy and matplotlib, which allow us to do vector calculations and plotting. The \"magic\" at the end of these library imports ensures that the graphs will show up in the notebook."
   ]
  },
  {
   "cell_type": "code",
   "execution_count": 1,
   "metadata": {},
   "outputs": [],
   "source": [
    "import numpy as np\n",
    "import matplotlib.pyplot as plt\n",
    "\n",
    "%matplotlib inline"
   ]
  },
  {
   "cell_type": "markdown",
   "metadata": {},
   "source": [
    "### Vector Math with numpy\n",
    "\n",
    "The numpy library doesn't precisely support vector mathematics in the way you are used to doing analytically. That's because the object that is most closely related to a vector is a numpy array, which is a more general object than a vector (or a matrix). But we can develop some of the architecture that we are used to using with vectors in the context of arrays. In this section of the notebook, you will see some of the calculations that you can do, and you will be asked to do some others below. We will use this architecture to compute the electric field of a point charge and a dipole."
   ]
  },
  {
   "cell_type": "code",
   "execution_count": 2,
   "metadata": {},
   "outputs": [],
   "source": [
    "a = np.array([3,4])      # create a 'vector' called 'a' with two components\n",
    "b = np.array([6,-10])    # create a 'vector' called 'b' with two components"
   ]
  },
  {
   "cell_type": "markdown",
   "metadata": {},
   "source": [
    "We can do simple operations like scalar multiplication ($2\\vec{a}$), addition ($\\vec{a}+\\vec{b}$), and subtraction ($\\vec{a}-\\vec{b}$) in a straight forward manner."
   ]
  },
  {
   "cell_type": "code",
   "execution_count": 5,
   "metadata": {},
   "outputs": [
    {
     "name": "stdout",
     "output_type": "stream",
     "text": [
      "[6 8]\n",
      "[ 9 -6]\n",
      "[-3 14]\n"
     ]
    }
   ],
   "source": [
    "print(2*a)\n",
    "print(a+b)\n",
    "print(a-b)"
   ]
  },
  {
   "cell_type": "markdown",
   "metadata": {},
   "source": [
    "More complicated vector operations either involve us using indicies like components. For example, the $x$ of $\\vec{a}$ can be represented by the 0th entry in the array."
   ]
  },
  {
   "cell_type": "code",
   "execution_count": 6,
   "metadata": {},
   "outputs": [
    {
     "name": "stdout",
     "output_type": "stream",
     "text": [
      "3\n"
     ]
    }
   ],
   "source": [
    "a_x = a[0]\n",
    "print(a_x)"
   ]
  },
  {
   "cell_type": "markdown",
   "metadata": {},
   "source": [
    "From this idea, we can do more complex operations like computing magnitudes or dot products using components."
   ]
  },
  {
   "cell_type": "code",
   "execution_count": 21,
   "metadata": {},
   "outputs": [
    {
     "name": "stdout",
     "output_type": "stream",
     "text": [
      "5.0\n",
      "-22\n"
     ]
    }
   ],
   "source": [
    "mag_a = np.sqrt(a[0]**2 + a[1]**2)\n",
    "print(mag_a)\n",
    "\n",
    "a_dot_b = a[0]*b[0] + a[1]*b[1]\n",
    "print(a_dot_b)"
   ]
  },
  {
   "cell_type": "markdown",
   "metadata": {},
   "source": [
    "This is quite cumbersome, so we can instead use some built-in functions within numpy to make these operations simpler."
   ]
  },
  {
   "cell_type": "code",
   "execution_count": 23,
   "metadata": {},
   "outputs": [
    {
     "name": "stdout",
     "output_type": "stream",
     "text": [
      "5.0\n",
      "-22\n"
     ]
    }
   ],
   "source": [
    "mag_a = np.linalg.norm(a)\n",
    "print(mag_a)\n",
    "\n",
    "a_dot_b = np.dot(a,b)\n",
    "print(a_dot_b)"
   ]
  },
  {
   "cell_type": "markdown",
   "metadata": {},
   "source": [
    "With these functions we can do most of the vector operations that we will need for computing electric fields. For example, computing the unit vector of $\\vec{c} = \\vec{a}-\\vec{b}$ is pretty straight forward now. \n",
    "\n",
    "We can further check that the magnitude of $\\hat{c}$ is 1 (or at least as close as the computer can get to 1 with rounding errors)."
   ]
  },
  {
   "cell_type": "code",
   "execution_count": 26,
   "metadata": {},
   "outputs": [
    {
     "name": "stdout",
     "output_type": "stream",
     "text": [
      "[-0.20952909  0.97780241]\n",
      "0.9999999999999999\n"
     ]
    }
   ],
   "source": [
    "c = a-b\n",
    "c_hat = c/np.linalg.norm(c)\n",
    "print(c_hat)\n",
    "\n",
    "mag_c_hat = np.linalg.norm(c_hat)\n",
    "print(mag_c_hat)"
   ]
  },
  {
   "cell_type": "markdown",
   "metadata": {},
   "source": [
    "### Computing the Electric Field of a point charge\n",
    "\n",
    "One of the uses of these vector calculations is quickly computing and representing the electric field of a distribution of charges. We will get there next week, but for now, let's make sure we can build the electric field of a point charge.\n",
    "\n",
    "Consider a point charge of 0.1$\\mu C$ located at the origin. We want to compute and represent the electric field of the charge at a distance of $0.1 m$ from the charge along the $x$-axis. We can construct that calculation relatively easily with the vector analysis from above.\n",
    "\n",
    "_Note: that we are still working in 2D as we will also graph this._"
   ]
  },
  {
   "cell_type": "code",
   "execution_count": 27,
   "metadata": {},
   "outputs": [
    {
     "name": "stdout",
     "output_type": "stream",
     "text": [
      "[90000.     0.]\n"
     ]
    }
   ],
   "source": [
    "k = 9e9                           ## Electric constant\n",
    "Q = 0.1e-6                        ## Charge\n",
    "\n",
    "rSource = np.array([0,0])         ## Source Location (Charge)\n",
    "rObs = np.array([0.1,0])          ## Observation Location\n",
    "\n",
    "r = rObs - rSource                ## Separation vector; Griffth's script r\n",
    "\n",
    "E = k*Q*r/(np.linalg.norm(r))**3  ## Computing the electric field\n",
    "\n",
    "print(E)"
   ]
  },
  {
   "cell_type": "markdown",
   "metadata": {},
   "source": [
    "#### Drawing the electric field\n",
    "\n",
    "This number is useful but, we would gain more insight if we could graph this. So we using ```matplotlib``` to plot the charge and an ```arrow``` to represent the electric field. We will see a problem with representing these on the same graph and fix it in a moment."
   ]
  },
  {
   "cell_type": "code",
   "execution_count": 34,
   "metadata": {},
   "outputs": [
    {
     "data": {
      "text/plain": [
       "[-0.2, 0.2, -0.2, 0.2]"
      ]
     },
     "execution_count": 34,
     "metadata": {},
     "output_type": "execute_result"
    },
    {
     "data": {
      "image/png": "[encoded data removed]",
      "text/plain": [
       "<Figure size 360x360 with 1 Axes>"
      ]
     },
     "metadata": {
      "needs_background": "light"
     },
     "output_type": "display_data"
    }
   ],
   "source": [
    "fig = plt.figure(figsize=(5,5))\n",
    "\n",
    "plt.plot(0,0,'ro')\n",
    "plt.arrow(rObs[0],rObs[1],E[0],E[1])\n",
    "\n",
    "plt.axis([-.2,.2,-.2,.2])"
   ]
  },
  {
   "cell_type": "markdown",
   "metadata": {},
   "source": [
    "Notice that the arrow head can't be seen. This is because we are drawing an arrow of length 90000 units on a graph that ends at 0.2 units. We need to introduce a rescaling to see the arrow. We can estimate that pretty easily and then use it."
   ]
  },
  {
   "cell_type": "code",
   "execution_count": 39,
   "metadata": {},
   "outputs": [
    {
     "name": "stdout",
     "output_type": "stream",
     "text": [
      "5.555555555555556e-07\n"
     ]
    },
    {
     "data": {
      "text/plain": [
       "[-0.2, 0.2, -0.2, 0.2]"
      ]
     },
     "execution_count": 39,
     "metadata": {},
     "output_type": "execute_result"
    },
    {
     "data": {
      "image/png": "[encoded data removed]",
      "text/plain": [
       "<Figure size 360x360 with 1 Axes>"
      ]
     },
     "metadata": {
      "needs_background": "light"
     },
     "output_type": "display_data"
    }
   ],
   "source": [
    "Escale = np.linalg.norm(r)/np.linalg.norm(E)/2      ## Make the scale 1/2 the size of the ratio of r to E\n",
    "print(Escale)\n",
    "\n",
    "fig = plt.figure(figsize=(5,5))\n",
    "\n",
    "plt.plot(0,0,'ro')\n",
    "plt.arrow(rObs[0],rObs[1],Escale*E[0],Escale*E[1])  ## Use the scale\n",
    "\n",
    "plt.axis([-.2,.2,-.2,.2])"
   ]
  },
  {
   "cell_type": "markdown",
   "metadata": {},
   "source": [
    "### Problems to solve\n",
    "\n",
    "Now, that you have seen how to calculate the electric field using ```numpy``` and to represent it using the ```arrow``` in ```matplotlib```, you have two problems to solve. The third problem is a bonus and combines the first two problems.\n",
    "\n",
    "1. Using what you have above, compute (automatically) the electric field due to the same point charge at 20 locations around the charge (0.1 m away). That is 20 locations that encircle the charge. You will want to use a loop to do this.\n",
    "2. Compute the electric field due to a dipole, two oppositely charged point charges (magnitude of the charges is still 0.1$\\mu C$). Place them 0.02 m apart on the y-axis. Compute and represent (with arrows) the electric field at 4 locations: 0.1m above the origin, 0.1 m below the origin, 0.1m to the left of the origin, and 0.1m to the right of the origin.\n",
    "3. (BONUS) Compute and represent (with arrows) the electric field of the dipole at 20 equally spaced locations around the dipole. You will want to use a loop."
   ]
  },
  {
   "cell_type": "code",
   "execution_count": null,
   "metadata": {},
   "outputs": [],
   "source": []
  }
 ],
 "metadata": {
  "kernelspec": {
   "display_name": "Python 3",
   "language": "python",
   "name": "python3"
  },
  "language_info": {
   "codemirror_mode": {
    "name": "ipython",
    "version": 3
   },
   "file_extension": ".py",
   "mimetype": "text/x-python",
   "name": "python",
   "nbconvert_exporter": "python",
   "pygments_lexer": "ipython3",
   "version": "3.7.4"
  }
 },
 "nbformat": 4,
 "nbformat_minor": 4
}
