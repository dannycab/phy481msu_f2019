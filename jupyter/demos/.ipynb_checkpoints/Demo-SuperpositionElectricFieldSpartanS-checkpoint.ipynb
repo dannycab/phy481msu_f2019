{
 "cells": [
  {
   "cell_type": "code",
   "execution_count": 2,
   "metadata": {},
   "outputs": [
    {
     "data": {
      "text/html": [
       "<div id=\"glowscript\" class=\"glowscript\"></div>"
      ],
      "text/plain": [
       "<IPython.core.display.HTML object>"
      ]
     },
     "metadata": {},
     "output_type": "display_data"
    },
    {
     "data": {
      "application/javascript": [
       "window.__context = { glowscript_container: $(\"#glowscript\").removeAttr(\"id\")}"
      ],
      "text/plain": [
       "<IPython.core.display.Javascript object>"
      ]
     },
     "metadata": {},
     "output_type": "display_data"
    }
   ],
   "source": [
    "from __future__ import division    ## Import floating point division\n",
    "from vpython import *              ## Import vpython for visualizations\n",
    "\n",
    "k = 9e9\n",
    "q = 1e-6\n",
    "\n",
    "positionList = [vector(1,0.9,0),\n",
    "                vector(1,1,0),\n",
    "               vector(0.9,1.1,0),\n",
    "               vector(0.8,1.2,0),\n",
    "               vector(0.7,1.2,0),\n",
    "               vector(0.6,1.2,0),\n",
    "               vector(0.5,1.2,0),\n",
    "               vector(0.4,1.2,0),\n",
    "               vector(0.3,1.2,0),\n",
    "               vector(0.2,1.2,0),\n",
    "               vector(0.1,1.1,0),\n",
    "               vector(0,1.0,0),\n",
    "               vector(0,0.9,0),\n",
    "               vector(0,0.8,0),\n",
    "               vector(0,0.7,0),\n",
    "               vector(0,0.6,0),\n",
    "               vector(0.1,0.5,0),\n",
    "               vector(0.2,0.4,0),\n",
    "               vector(0.3,0.4,0),\n",
    "               vector(0.4,0.4,0),\n",
    "               vector(0.5,0.4,0),\n",
    "               vector(0.6,0.4,0),\n",
    "               vector(0.7,0.4,0),\n",
    "               vector(0.8,0.4,0),\n",
    "               vector(0.9,0.3,0),\n",
    "               vector(1.0,0.2,0),\n",
    "               vector(1.0,0.1,0),\n",
    "               vector(1.0,0,0),\n",
    "               vector(1.0,-0.1,0),\n",
    "               vector(1.0,-0.2,0),\n",
    "               vector(0.9,-0.3,0),\n",
    "               vector(0.8,-0.4,0),\n",
    "               vector(0.7,-0.4,0),\n",
    "               vector(0.6,-0.4,0),\n",
    "               vector(0.5,-0.4,0),\n",
    "               vector(0.4,-0.4,0),\n",
    "               vector(0.3,-0.4,0),\n",
    "               vector(0.2,-0.4,0),\n",
    "               vector(0.1,-0.3,0),\n",
    "               vector(0,-0.2,0),\n",
    "               vector(0,-0.1,0)]\n",
    "\n",
    "observationLocation = vector(-1,0,0)\n",
    "\n",
    "dE = vector(0,0,0)\n",
    "E = vector(0,0,0)\n",
    "Escale = 1e-4\n",
    "\n",
    "scene=canvas(title=\"Electric Field Due to a Spartan S\", background=color.white)\n",
    "\n",
    "for thisPosition in positionList:\n",
    "    \n",
    "    rate(5)\n",
    "    sphere(pos=thisPosition, radius=0.05, color=vec(0.09,0.27,0.23))"
   ]
  },
  {
   "cell_type": "code",
   "execution_count": 3,
   "metadata": {},
   "outputs": [],
   "source": []
  },
  {
   "cell_type": "code",
   "execution_count": null,
   "metadata": {
    "collapsed": true
   },
   "outputs": [],
   "source": []
  }
 ],
 "metadata": {
  "kernelspec": {
   "display_name": "Python 2",
   "language": "python",
   "name": "python2"
  },
  "language_info": {
   "codemirror_mode": {
    "name": "ipython",
    "version": 3
   },
   "file_extension": ".py",
   "mimetype": "text/x-python",
   "name": "python",
   "nbconvert_exporter": "python",
   "pygments_lexer": "ipython3",
   "version": "3.6.5"
  }
 },
 "nbformat": 4,
 "nbformat_minor": 1
}
