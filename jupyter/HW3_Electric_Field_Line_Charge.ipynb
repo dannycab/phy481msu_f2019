{
 "cells": [
  {
   "cell_type": "markdown",
   "metadata": {},
   "source": [
    "# Numerically Computing the Electric Field - Part 2\n",
    "\n",
    "## Reminders from Homework 2\n",
    "\n",
    "One type of problem you will encounter in electrostatics is one where you know the distribution of charge at every point in space (or every point where the sources exist) and you need to determine the electric field everywhere in space (or everywhere you are interested). This can be done using Coulomb's law,\n",
    "\n",
    "$$ \\vec{E} = \\int_V d\\tau\\;\\dfrac{1}{4\\pi\\varepsilon_0}\\dfrac{dq}{|\\mathfrak{\\vec{r}}|^2}\\hat{\\mathfrak{r}}$$\n",
    "\n",
    "This calculation might be difficult to perform for all locations that you are interested in, or it might be downright impossible to solve analytical as no anti-derivative might exist for the function. In this case, using numerical techniques makes the problem tractable.\n",
    "\n",
    "## The concept of numerical integration \n",
    "\n",
    "Typically, when you perform an integral analytically, you are seeking the anti-derivative of the function that you are integrating. This is one productive way to think about an integral. \n",
    "\n",
    "Another productive way to think about integration is adding up small bits. You might think about this when you do a line integral, but this can also be a productive way of thinking about any kind of integral, in particular, numerical integration. To conceptualize a numerical integral where you are trying to determine the electric field it is important to follow these steps:\n",
    "\n",
    "1. Divide the source into chunks ($dq$) and pick a starting chunk\n",
    "2. Determine the separation vector ($\\vec{\\mathfrak{r}}$) between the chunk and the observation location\n",
    "3. Compute the contribution to the total electric field from the chunk ($d\\vec{E}$) - treating it as a point charge of size $dq$\n",
    "4. Add this contribution to the \"running\" total of electric field\n",
    "5. Repeat steps 2-5, which form the basis of numerical integration (it's the superposition of the chunks), until you have added up the contributions of all the chunks\n",
    "\n",
    "## Purpose of this problem\n",
    "\n",
    "\n",
    "In this problem, you will calculate and display the electric field of a line charge.\n",
    "\n",
    "_For this problem, we will limit our calculations to two-dimensions as we are going to be graphing in a plane._"
   ]
  },
  {
   "cell_type": "markdown",
   "metadata": {},
   "source": [
    "### Import the relevant libraries\n",
    "\n",
    "We will begin by importing numpy and matplotlib, which allow us to do vector calculations and plotting. The \"magic\" at the end of these library imports ensures that the graphs will show up in the notebook."
   ]
  },
  {
   "cell_type": "code",
   "execution_count": 1,
   "metadata": {},
   "outputs": [],
   "source": [
    "import numpy as np\n",
    "import matplotlib.pyplot as plt\n",
    "\n",
    "%matplotlib inline"
   ]
  },
  {
   "cell_type": "markdown",
   "metadata": {},
   "source": [
    "### Computing the Electric Field of a line of charge\n",
    "\n",
    "You might want to remind yourself how we can use array calculations with numpy. You can find that in the problem [you did for homework 2](https://github.com/dannycab/phy481msu_f2019/blob/master/jupyter/HW2_Calculate_Electric_Field.ipynb).\n",
    "\n",
    "Consider a uniformly charged rod with total charge of 0.1$\\mu C$. It lies along the $x$-axis from -0.1 to 0.1 meters. We want to compute and represent the electric field of the charge at a distance of $0.1 m$ from the charge along the $y$-axis.\n",
    "\n",
    "_Note: that we are still working in 2D as we will also graph this._\n",
    "\n",
    "Below, we construct the line charge from an array of points (20 chunks of the line charge). We plot it as well."
   ]
  },
  {
   "cell_type": "code",
   "execution_count": 14,
   "metadata": {},
   "outputs": [],
   "source": [
    "## Location of the ends of the rod\n",
    "lineStartX = -0.1\n",
    "lineEndX = 0.1\n",
    "\n",
    "## Number of chunks that the rod is cut up into\n",
    "Nchunks = 20\n",
    "\n",
    "## Create locations for the chunks that are equally spaces\n",
    "xLocations = np.linspace(lineStartX,lineEndX,Nchunks)\n",
    "yLocations = np.zeros(Nchunks)\n",
    "\n",
    "## Stack the locations so that they are regular (x,y) ordered pairs\n",
    "chunkLocations = np.stack((xLocations,yLocations), axis=1)"
   ]
  },
  {
   "cell_type": "code",
   "execution_count": 20,
   "metadata": {},
   "outputs": [
    {
     "data": {
      "image/png": "[encoded data removed]",
      "text/plain": [
       "<Figure size 360x360 with 1 Axes>"
      ]
     },
     "metadata": {
      "needs_background": "light"
     },
     "output_type": "display_data"
    }
   ],
   "source": [
    "fig = plt.figure(figsize=(5,5))\n",
    "\n",
    "## This for loop lets you do an operation on each chunk\n",
    "for thisLocation in chunkLocations:\n",
    "    \n",
    "    plt.plot(thisLocation[0],thisLocation[1],'ro')"
   ]
  },
  {
   "cell_type": "code",
   "execution_count": 27,
   "metadata": {},
   "outputs": [
    {
     "name": "stdout",
     "output_type": "stream",
     "text": [
      "[90000.     0.]\n"
     ]
    }
   ],
   "source": [
    "k = 9e9                           ## Electric constant\n",
    "Q = 0.1e-6                        ## Charge\n",
    "\n",
    "chargeOfChunk = Q/Nchunks         ## Charge of a single chunk"
   ]
  },
  {
   "cell_type": "markdown",
   "metadata": {},
   "source": [
    "### Problems to solve\n",
    "\n",
    "Using numerical superposition, adding up the contributions to the electric field due to each chunk, you will solve the following problems.\n",
    "\n",
    "1. We want to compute and represent the electric field of the charge at a distance of $0.1 m$ from the line charge along the $y$-axis. Do this.\n",
    "2. The analytical formula for the electric field of the rod at that location is: $E_{rod} = \\dfrac{1}{4\\pi\\varepsilon_0}\\dfrac{Q}{y\\sqrt{L^2/4+y^2}}$. Compare the value of the electric field at that location for different values of 'Nchunks', say for 10, 20, 50, and 100 chunks. How close do you get with 100 chunks? How many chunks do you need to get within 1% of the analytical solution?\n",
    "3. Using what you have built to find the electric field at this location, find the electric field at a variety of points around the the line charge and represent them with arrows. You can choose the locations, but be systematic."
   ]
  },
  {
   "cell_type": "code",
   "execution_count": null,
   "metadata": {},
   "outputs": [],
   "source": []
  }
 ],
 "metadata": {
  "kernelspec": {
   "display_name": "Python 3",
   "language": "python",
   "name": "python3"
  },
  "language_info": {
   "codemirror_mode": {
    "name": "ipython",
    "version": 3
   },
   "file_extension": ".py",
   "mimetype": "text/x-python",
   "name": "python",
   "nbconvert_exporter": "python",
   "pygments_lexer": "ipython3",
   "version": "3.7.4"
  }
 },
 "nbformat": 4,
 "nbformat_minor": 4
}
